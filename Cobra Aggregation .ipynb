{
 "cells": [
  {
   "cell_type": "code",
   "execution_count": 1,
   "id": "cd57cb56",
   "metadata": {},
   "outputs": [],
   "source": [
    "from sklearn import linear_model\n",
    "from sklearn.tree import DecisionTreeRegressor\n",
    "from sklearn.ensemble import RandomForestRegressor\n",
    "from sklearn.svm import LinearSVR\n",
    "from sklearn.neural_network import MLPRegressor\n",
    "\n",
    "from sklearn.utils import shuffle\n",
    "from sklearn.base import BaseEstimator\n",
    "from sklearn.utils.validation import check_X_y, check_array, check_is_fitted\n",
    "from sklearn.model_selection import GridSearchCV\n",
    "\n",
    "import math\n",
    "import numpy as np\n",
    "import random\n",
    "import logging\n",
    "import numbers"
   ]
  },
  {
   "cell_type": "code",
   "execution_count": 2,
   "id": "3b6703ae",
   "metadata": {},
   "outputs": [],
   "source": [
    "random_state = 20\n",
    "epsilon = 0.1\n",
    "machine_list = ['RSF','DeepHit','MLTR','Cox_Time']   \n",
    "n_patients = 312"
   ]
  },
  {
   "cell_type": "code",
   "execution_count": 3,
   "id": "401e25bc",
   "metadata": {},
   "outputs": [],
   "source": [
    "# Import Predictions\n",
    "import pickle\n",
    "\"\"\"Dictionaries of the form {'patient_id':'Predictions_array'}\"\"\"\n",
    "rsf_predictions = pickle.load( open( \"patient_surv_functions/rsf.p\", \"rb\" ) )\n",
    "deep_hit_predictions = pickle.load( open( \"patient_surv_functions/deep_hit.p\", \"rb\" ) )\n",
    "mltr_predictions = pickle.load( open( \"patient_surv_functions/mltr.p\", \"rb\" ) )\n",
    "cox_time_predictions = pickle.load( open( \"patient_surv_functions/cox_time.p\", \"rb\" ) )"
   ]
  },
  {
   "cell_type": "code",
   "execution_count": 4,
   "id": "930774be",
   "metadata": {},
   "outputs": [],
   "source": [
    "# Timepoints taken in considerations format : float\n",
    "event_time = [  8.,  11.,  16.,  20.,  26.,  27.,  29.,  30.,  31.,  32.,  38.,\n",
    "        44.,  47.,  50.,  56.,  74.,  76.,  79.,  89.,  96.,  99., 101.,\n",
    "       105., 109., 112., 114., 118., 120., 122., 125., 127., 129., 133.,\n",
    "       134., 135., 139., 143., 145., 148., 152., 154., 155., 165., 166.,\n",
    "       167., 170., 173., 185., 186., 193., 194., 201., 204., 205., 206.,\n",
    "       213., 215., 219., 220., 235., 236., 239., 241., 248., 255., 261.,\n",
    "       263., 264., 267., 271., 275., 278., 285., 287., 292., 293., 297.,\n",
    "       298., 303., 317., 322., 328., 332., 335., 336., 340., 345., 353.,\n",
    "       357., 362., 364., 368., 370., 395., 399., 411., 438., 440., 441.,\n",
    "       459., 462., 468., 482., 484., 489., 491., 511., 525., 536., 547.,\n",
    "       549., 556., 597.]"
   ]
  },
  {
   "cell_type": "code",
   "execution_count": 5,
   "id": "e85deb2e",
   "metadata": {},
   "outputs": [],
   "source": [
    "def load_machine_predictions(machine_list,time):\n",
    "    \"\"\"\n",
    "    TODO rewrite this\\\\\\///\n",
    "    Stores the trained machines' predicitons on training data in a dictionary, to be used for predictions.\n",
    "    Should be run after all the machines to be used for aggregation is loaded.\n",
    "    Parameters\n",
    "    ----------\n",
    "    predictions: dictionary, optional\n",
    "        A pre-existing machine:predictions dictionary can also be loaded.\n",
    "    Returns\n",
    "    -------\n",
    "    self : returns an instance of self.\n",
    "    \"\"\"\n",
    "    machine_predictions_ = {}\n",
    "    all_predictions_ = np.array([])\n",
    "    for machine in machine_list:\n",
    "        if machine == 'RSF':\n",
    "            surv_probablity = np.zeros(n_patients)\n",
    "            for id in range(n_patients):\n",
    "                surv_probablity[id] = deep_hit_predictions[id][time]\n",
    "            machine_predictions_[machine] = surv_probablity\n",
    "        if machine == 'DeepHit':\n",
    "            surv_probablity = np.zeros(n_patients)\n",
    "            for id in range(n_patients):\n",
    "                surv_probablity[id] = deep_hit_predictions[id][time]\n",
    "            machine_predictions_[machine] = surv_probablity\n",
    "        if machine == 'MLTR':\n",
    "            surv_probablity = np.zeros(n_patients)\n",
    "            for id in range(n_patients):\n",
    "                surv_probablity[id] = mltr_predictions[id][time]\n",
    "            machine_predictions_[machine] = surv_probablity\n",
    "        if machine == 'Cox_Time':\n",
    "            surv_probablity = np.zeros(n_patients)\n",
    "            for id in range(n_patients):\n",
    "                surv_probablity[id] = cox_time_predictions[id][time]\n",
    "            machine_predictions_[machine] = surv_probablity        \n",
    "        # all_predictions_ is used in the diagnostics class, and for initialising epsilon\n",
    "        all_predictions_ = np.append(all_predictions_, machine_predictions_[machine])\n",
    "\n",
    "    return machine_predictions_,all_predictions_"
   ]
  },
  {
   "cell_type": "code",
   "execution_count": 6,
   "id": "9b94e9a8",
   "metadata": {},
   "outputs": [],
   "source": [
    "mp,ap = load_machine_predictions(machine_list,0)"
   ]
  },
  {
   "cell_type": "code",
   "execution_count": 7,
   "id": "8c31f33c",
   "metadata": {},
   "outputs": [
    {
     "data": {
      "text/plain": [
       "(1248,)"
      ]
     },
     "execution_count": 7,
     "metadata": {},
     "output_type": "execute_result"
    }
   ],
   "source": [
    "np.shape(ap)"
   ]
  },
  {
   "cell_type": "code",
   "execution_count": 8,
   "id": "43f10025",
   "metadata": {},
   "outputs": [],
   "source": [
    "def get_points(patient_id,time,epsilon, alpha = 4,info = True):\n",
    "    \"\"\"\n",
    "    Performs the COBRA aggregation scheme, used in predict method.\n",
    "    Parameters\n",
    "    ----------\n",
    "    X: array-like, [n_features]\n",
    "    alpha: int, optional\n",
    "        alpha refers to the number of machines the prediction must be close to to be considered during aggregation.\n",
    "    info: boolean, optional\n",
    "        If info is true the list of points selected in the aggregation is returned.\n",
    "    Returns\n",
    "    -------\n",
    "    avg: prediction\n",
    "    \"\"\"\n",
    "\n",
    "    # dictionary mapping machine to points selected\n",
    "    select = {}\n",
    "    machine_predictions, all_predictions = load_machine_predictions(machine_list,time)\n",
    "    for machine in machine_list:\n",
    "        # machine prediction\n",
    "        val = machine_predictions[machine][patient_id]\n",
    "#         val = self.estimators_[machine].predict(X)\n",
    "        select[machine] = set()\n",
    "        # iterating from l to n\n",
    "        # replace with numpy iteration\n",
    "        for count in range(0, n_patients):\n",
    "            try:\n",
    "                # if value is close to prediction, select the indice\n",
    "                if math.fabs(machine_predictions[machine][count] - val) <= epsilon:\n",
    "                    select[machine].add(count)\n",
    "            except (ValueError, TypeError) as e:\n",
    "                logger.info(\"Error in indice selection\")\n",
    "                continue\n",
    "\n",
    "    points = []\n",
    "#     # count is the indice number.\n",
    "    for count in range(0, n_patients):\n",
    "        # row check is number of machines which picked up a particular point\n",
    "        row_check = 0\n",
    "        for machine in select:\n",
    "            if count in select[machine]:\n",
    "                row_check += 1\n",
    "        if row_check <= alpha:\n",
    "            points.append(count)\n",
    "\n",
    "#     # if no points are selected, return 0\n",
    "#     if len(points) == 0:\n",
    "#         if info:\n",
    "#             logger.info(\"No points were selected, prediction is 0\")\n",
    "#         return machine_predictions['deep_hit'][patient_id]\n",
    "\n",
    "#     # aggregate\n",
    "#     avg = 0\n",
    "#     for point in points:\n",
    "#         avg += self.y_l_[point]\n",
    "#     avg = avg / len(points)\n",
    "\n",
    "#     if info:\n",
    "#         return avg, points\n",
    "    return points"
   ]
  },
  {
   "cell_type": "code",
   "execution_count": 9,
   "id": "2704c099",
   "metadata": {},
   "outputs": [],
   "source": [
    "# get_points(0,0,0.001,1,True)"
   ]
  },
  {
   "cell_type": "code",
   "execution_count": 10,
   "id": "76363553",
   "metadata": {},
   "outputs": [],
   "source": [
    "def agregate(patient_id,time,epsilon, alpha = 4,info = True, test = False):\n",
    "    points = get_points(patient_id,time,epsilon, alpha,info = True)\n",
    "    avg = 0\n",
    "    machine_predictions, all_predictions = load_machine_predictions(machine_list,time)\n",
    "    for point in points:\n",
    "        for machines in machine_predictions:\n",
    "            avg += machine_predictions[machines][point]\n",
    "    \n",
    "    avg = avg / (len(points)*alpha)\n",
    "    if test:\n",
    "        for machine in machine_predictions:\n",
    "            print(machine, machine_predictions[machine][patient_id])\n",
    "    return avg\n",
    "        "
   ]
  },
  {
   "cell_type": "code",
   "execution_count": 11,
   "id": "320fe8ec",
   "metadata": {},
   "outputs": [
    {
     "data": {
      "text/plain": [
       "0.9915038197895598"
      ]
     },
     "execution_count": 11,
     "metadata": {},
     "output_type": "execute_result"
    }
   ],
   "source": [
    "agregate(0,0,0.001,4,True)"
   ]
  },
  {
   "cell_type": "code",
   "execution_count": 12,
   "id": "3e9dce3a",
   "metadata": {},
   "outputs": [],
   "source": [
    "# Get cobra predictions\n",
    "def cobra_surv(patient_id, epsilon, alpha = 4):\n",
    "    cobra_predictions = np.zeros(len(event_time)) \n",
    "    for time in range(len(event_time)):\n",
    "        cobra_predictions[time] = agregate(patient_id,time, epsilon,alpha)\n",
    "    return cobra_predictions"
   ]
  },
  {
   "cell_type": "code",
   "execution_count": 13,
   "id": "deb285d6",
   "metadata": {},
   "outputs": [],
   "source": [
    "cobra_predictions = cobra_surv(1, 0.001, alpha = 4)"
   ]
  },
  {
   "cell_type": "code",
   "execution_count": 14,
   "id": "4e4963f4",
   "metadata": {},
   "outputs": [
    {
     "data": {
      "text/plain": [
       "array([0.99150382, 0.98736883, 0.98287452, 0.97769382, 0.97291768,\n",
       "       0.97026239, 0.96664863, 0.9619245 , 0.96061173, 0.95774009,\n",
       "       0.95351998, 0.95114995, 0.94840296, 0.94350679, 0.939226  ,\n",
       "       0.93153486, 0.92777517, 0.92386688, 0.91748203, 0.91364603,\n",
       "       0.90987472, 0.90576664, 0.9046759 , 0.89517109, 0.88983415,\n",
       "       0.88800514, 0.88364099, 0.88322668, 0.88162302, 0.87933748,\n",
       "       0.877785  , 0.87640334, 0.87338589, 0.87319   , 0.86865839,\n",
       "       0.86727797, 0.86074352, 0.85535359, 0.84995762, 0.84880953,\n",
       "       0.84759177, 0.84512395, 0.84112279, 0.83745057, 0.83360606,\n",
       "       0.83023567, 0.82980311, 0.81054452, 0.81025574, 0.80970724,\n",
       "       0.80924378, 0.80633437, 0.80430622, 0.79932369, 0.7987385 ,\n",
       "       0.7895407 , 0.78584636, 0.78087231, 0.77663293, 0.77088562,\n",
       "       0.76999042, 0.76847811, 0.75522901, 0.74986852, 0.74278856,\n",
       "       0.73754822, 0.73679287, 0.73343544, 0.73120945, 0.72650036,\n",
       "       0.7233685 , 0.71974668, 0.71860761, 0.71596403, 0.70418693,\n",
       "       0.70254186, 0.69488424, 0.68909094, 0.68543592, 0.67779538,\n",
       "       0.65862537, 0.64815979, 0.6462812 , 0.6440069 , 0.64200962,\n",
       "       0.63439556, 0.62775948, 0.61870201, 0.61593922, 0.60152542,\n",
       "       0.59840829, 0.58676816, 0.5746968 , 0.56749583, 0.56320771,\n",
       "       0.55306062, 0.53705842, 0.52007124, 0.50664218, 0.48637225,\n",
       "       0.47755961, 0.46847564, 0.4486384 , 0.44010018, 0.43247214,\n",
       "       0.42519409, 0.4111377 , 0.38953307, 0.37244861, 0.35574544,\n",
       "       0.34607369, 0.3339836 , 0.31642089])"
      ]
     },
     "execution_count": 14,
     "metadata": {},
     "output_type": "execute_result"
    }
   ],
   "source": [
    "cobra_predictions"
   ]
  },
  {
   "cell_type": "code",
   "execution_count": 15,
   "id": "f28e66e3",
   "metadata": {},
   "outputs": [
    {
     "data": {
      "image/png": "[encoded data removed]",
      "text/plain": [
       "<Figure size 432x288 with 1 Axes>"
      ]
     },
     "metadata": {
      "needs_background": "light"
     },
     "output_type": "display_data"
    }
   ],
   "source": [
    "import pandas as pd\n",
    "import matplotlib.pyplot as plt\n",
    "import numpy as np\n",
    "%matplotlib inline\n",
    "\n",
    "\n",
    "plt.step(event_time, rsf_predictions[1], where=\"post\", label=str('RSF'))\n",
    "plt.step(event_time, deep_hit_predictions[1], where=\"post\", label=str('DeepHit'))\n",
    "plt.step(event_time, cobra_predictions, where=\"post\", label=str('Cobra'))\n",
    "plt.ylabel(\"Survival probability\")\n",
    "plt.xlabel(\"Time in days\")\n",
    "plt.legend()\n",
    "plt.grid(True)"
   ]
  },
  {
   "cell_type": "code",
   "execution_count": 25,
   "id": "e280a6b7",
   "metadata": {},
   "outputs": [],
   "source": [
    "def cobra_plot(patient_id, epsilon, alpha = 4):\n",
    "    cobra_predictions = np.zeros(len(event_time)) \n",
    "    for time in range(len(event_time)):\n",
    "        cobra_predictions[time] = agregate(patient_id,time, epsilon,alpha)\n",
    "    plt.step(event_time, rsf_predictions[patient_id], where=\"post\", label=str('RSF'))\n",
    "    plt.step(event_time, deep_hit_predictions[patient_id], where=\"post\", label=str('DeepHit'))\n",
    "    plt.step(event_time, mltr_predictions[patient_id], where=\"post\", label=str('MLTR'))\n",
    "    plt.step(event_time, cox_time_predictions[patient_id], where=\"post\", label=str('Cox_Time'))\n",
    "    plt.step(event_time, cobra_predictions, where=\"post\", label=str('Cobra'))\n",
    "    plt.ylabel(\"Survival probability\")\n",
    "    plt.xlabel(\"Time in days\")\n",
    "    plt.legend()\n",
    "    plt.grid(True)"
   ]
  },
  {
   "cell_type": "code",
   "execution_count": 28,
   "id": "0f01e94d",
   "metadata": {},
   "outputs": [
    {
     "data": {
      "image/png": "[encoded data removed]",
      "text/plain": [
       "<Figure size 432x288 with 1 Axes>"
      ]
     },
     "metadata": {
      "needs_background": "light"
     },
     "output_type": "display_data"
    }
   ],
   "source": [
    "cobra_plot(5, 0.0001, alpha = 4)"
   ]
  },
  {
   "cell_type": "code",
   "execution_count": null,
   "id": "87cbe482",
   "metadata": {},
   "outputs": [],
   "source": []
  }
 ],
 "metadata": {
  "kernelspec": {
   "display_name": "Python 3 (ipykernel)",
   "language": "python",
   "name": "python3"
  },
  "language_info": {
   "codemirror_mode": {
    "name": "ipython",
    "version": 3
   },
   "file_extension": ".py",
   "mimetype": "text/x-python",
   "name": "python",
   "nbconvert_exporter": "python",
   "pygments_lexer": "ipython3",
   "version": "3.9.6"
  }
 },
 "nbformat": 4,
 "nbformat_minor": 5
}
