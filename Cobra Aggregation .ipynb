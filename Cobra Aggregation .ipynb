{
 "cells": [
  {
   "cell_type": "code",
   "execution_count": 1,
   "id": "cd57cb56",
   "metadata": {},
   "outputs": [],
   "source": [
    "from sklearn import linear_model\n",
    "from sklearn.tree import DecisionTreeRegressor\n",
    "from sklearn.ensemble import RandomForestRegressor\n",
    "from sklearn.svm import LinearSVR\n",
    "from sklearn.neural_network import MLPRegressor\n",
    "\n",
    "from sklearn.utils import shuffle\n",
    "from sklearn.base import BaseEstimator\n",
    "from sklearn.utils.validation import check_X_y, check_array, check_is_fitted\n",
    "from sklearn.model_selection import GridSearchCV\n",
    "\n",
    "import math\n",
    "import numpy as np\n",
    "import random\n",
    "import logging\n",
    "import numbers"
   ]
  },
  {
   "cell_type": "code",
   "execution_count": 2,
   "id": "3b6703ae",
   "metadata": {},
   "outputs": [],
   "source": [
    "random_state = 20\n",
    "epsilon = 0.001\n",
    "machine_list = ['RSF','DeepHit','MLTR','Cox_Time']   \n",
    "n_patients = 312"
   ]
  },
  {
   "cell_type": "code",
   "execution_count": 3,
   "id": "401e25bc",
   "metadata": {},
   "outputs": [],
   "source": [
    "# Import Predictions\n",
    "import pickle\n",
    "\"\"\"Dictionaries of the form {'patient_id':'Predictions_array'}\"\"\"\n",
    "rsf_predictions = pickle.load( open( \"patient_surv_functions/rsf.p\", \"rb\" ) )\n",
    "deep_hit_predictions = pickle.load( open( \"patient_surv_functions/deep_hit.p\", \"rb\" ) )\n",
    "mltr_predictions = pickle.load( open( \"patient_surv_functions/mltr.p\", \"rb\" ) )\n",
    "cox_time_predictions = pickle.load( open( \"patient_surv_functions/cox_time.p\", \"rb\" ) )"
   ]
  },
  {
   "cell_type": "code",
   "execution_count": 4,
   "id": "930774be",
   "metadata": {},
   "outputs": [],
   "source": [
    "# Timepoints taken in considerations format : float\n",
    "event_time = [  8.,  11.,  16.,  20.,  26.,  27.,  29.,  30.,  31.,  32.,  38.,\n",
    "        44.,  47.,  50.,  56.,  74.,  76.,  79.,  89.,  96.,  99., 101.,\n",
    "       105., 109., 112., 114., 118., 120., 122., 125., 127., 129., 133.,\n",
    "       134., 135., 139., 143., 145., 148., 152., 154., 155., 165., 166.,\n",
    "       167., 170., 173., 185., 186., 193., 194., 201., 204., 205., 206.,\n",
    "       213., 215., 219., 220., 235., 236., 239., 241., 248., 255., 261.,\n",
    "       263., 264., 267., 271., 275., 278., 285., 287., 292., 293., 297.,\n",
    "       298., 303., 317., 322., 328., 332., 335., 336., 340., 345., 353.,\n",
    "       357., 362., 364., 368., 370., 395., 399., 411., 438., 440., 441.,\n",
    "       459., 462., 468., 482., 484., 489., 491., 511., 525., 536., 547.,\n",
    "       549., 556., 597.]"
   ]
  },
  {
   "cell_type": "code",
   "execution_count": 5,
   "id": "e85deb2e",
   "metadata": {},
   "outputs": [],
   "source": [
    "def load_machine_predictions(machine_list,time):\n",
    "    \"\"\"\n",
    "    TODO rewrite this\\\\\\///\n",
    "    Stores the trained machines' predicitons on training data in a dictionary, to be used for predictions.\n",
    "    Should be run after all the machines to be used for aggregation is loaded.\n",
    "    Parameters\n",
    "    ----------\n",
    "    predictions: dictionary, optional\n",
    "        A pre-existing machine:predictions dictionary can also be loaded.\n",
    "    Returns\n",
    "    -------\n",
    "    self : returns an instance of self.\n",
    "    \"\"\"\n",
    "    machine_predictions_ = {}\n",
    "    all_predictions_ = np.array([])\n",
    "    for machine in machine_list:\n",
    "        if machine == 'RSF':\n",
    "            surv_probablity = np.zeros(n_patients)\n",
    "            for id in range(n_patients):\n",
    "                surv_probablity[id] = deep_hit_predictions[id][time]\n",
    "            machine_predictions_[machine] = surv_probablity\n",
    "        if machine == 'DeepHit':\n",
    "            surv_probablity = np.zeros(n_patients)\n",
    "            for id in range(n_patients):\n",
    "                surv_probablity[id] = deep_hit_predictions[id][time]\n",
    "            machine_predictions_[machine] = surv_probablity\n",
    "        if machine == 'MLTR':\n",
    "            surv_probablity = np.zeros(n_patients)\n",
    "            for id in range(n_patients):\n",
    "                surv_probablity[id] = mltr_predictions[id][time]\n",
    "            machine_predictions_[machine] = surv_probablity\n",
    "        if machine == 'Cox_Time':\n",
    "            surv_probablity = np.zeros(n_patients)\n",
    "            for id in range(n_patients):\n",
    "                surv_probablity[id] = cox_time_predictions[id][time]\n",
    "            machine_predictions_[machine] = surv_probablity        \n",
    "        # all_predictions_ is used in the diagnostics class, and for initialising epsilon\n",
    "        all_predictions_ = np.append(all_predictions_, machine_predictions_[machine])\n",
    "\n",
    "    return machine_predictions_,all_predictions_"
   ]
  },
  {
   "cell_type": "code",
   "execution_count": 6,
   "id": "9b94e9a8",
   "metadata": {},
   "outputs": [],
   "source": [
    "mp,ap = load_machine_predictions(machine_list,0)"
   ]
  },
  {
   "cell_type": "code",
   "execution_count": 8,
   "id": "43f10025",
   "metadata": {},
   "outputs": [],
   "source": [
    "def get_points(patient_id,time,epsilon, alpha = 4,info = True):\n",
    "    \"\"\"\n",
    "    Performs the COBRA aggregation scheme, used in predict method.\n",
    "    Parameters\n",
    "    ----------\n",
    "    X: array-like, [n_features]\n",
    "    alpha: int, optional\n",
    "        alpha refers to the number of machines the prediction must be close to to be considered during aggregation.\n",
    "    info: boolean, optional\n",
    "        If info is true the list of points selected in the aggregation is returned.\n",
    "    Returns\n",
    "    -------\n",
    "    avg: prediction\n",
    "    \"\"\"\n",
    "\n",
    "    # dictionary mapping machine to points selected\n",
    "    select = {}\n",
    "    machine_predictions, all_predictions = load_machine_predictions(machine_list,time)\n",
    "    for machine in machine_list:\n",
    "        # machine prediction\n",
    "        val = machine_predictions[machine][patient_id]\n",
    "#         val = self.estimators_[machine].predict(X)\n",
    "        select[machine] = set()\n",
    "        # iterating from l to n\n",
    "        # replace with numpy iteration\n",
    "        for count in range(0, n_patients):\n",
    "            try:\n",
    "                # if value is close to prediction, select the indice\n",
    "                if math.fabs(machine_predictions[machine][count] - val) <= epsilon:\n",
    "                    select[machine].add(count)\n",
    "            except (ValueError, TypeError) as e:\n",
    "                logger.info(\"Error in indice selection\")\n",
    "                continue\n",
    "#     print(select)\n",
    "    points = []\n",
    "#     # count is the indice number.\n",
    "    for count in range(0, n_patients):\n",
    "        # row check is number of machines which picked up a particular point\n",
    "        row_check = 0\n",
    "        for machine in select:\n",
    "            if count in select[machine]:\n",
    "                row_check += 1\n",
    "        if row_check == alpha:\n",
    "            points.append(count)\n",
    "\n",
    "#     # if no points are selected, return 0\n",
    "#     if len(points) == 0:\n",
    "#         if info:\n",
    "#             logger.info(\"No points were selected, prediction is 0\")\n",
    "#         return machine_predictions['deep_hit'][patient_id]\n",
    "\n",
    "#     # aggregate\n",
    "#     avg = 0\n",
    "#     for point in points:\n",
    "#         avg += self.y_l_[point]\n",
    "#     avg = avg / len(points)\n",
    "\n",
    "#     if info:\n",
    "#         return avg, points\n",
    "#     print('No of Points for patient',patient_id,'==',len(points))\n",
    "    return points"
   ]
  },
  {
   "cell_type": "code",
   "execution_count": 9,
   "id": "2704c099",
   "metadata": {},
   "outputs": [
    {
     "data": {
      "text/plain": [
       "[48, 147, 213, 263]"
      ]
     },
     "execution_count": 9,
     "metadata": {},
     "output_type": "execute_result"
    }
   ],
   "source": [
    "get_points(48,0,0.001,4,True)"
   ]
  },
  {
   "cell_type": "code",
   "execution_count": 10,
   "id": "76363553",
   "metadata": {},
   "outputs": [],
   "source": [
    "def agregate(patient_id,time,epsilon, alpha = 4,info = True, test = False):\n",
    "    points = get_points(patient_id,time,epsilon, alpha,info = True)\n",
    "    avg = 0\n",
    "    machine_predictions, all_predictions = load_machine_predictions(machine_list,time)\n",
    "    for point in points:\n",
    "        for machines in machine_predictions:\n",
    "            avg += machine_predictions[machines][point]\n",
    "    \n",
    "    avg = avg / (len(points)*alpha)\n",
    "    if test:\n",
    "        for machine in machine_predictions:\n",
    "            print(machine, machine_predictions[machine][patient_id])\n",
    "    return avg\n",
    "        "
   ]
  },
  {
   "cell_type": "code",
   "execution_count": 11,
   "id": "320fe8ec",
   "metadata": {},
   "outputs": [
    {
     "data": {
      "text/plain": [
       "0.9997821407926023"
      ]
     },
     "execution_count": 11,
     "metadata": {},
     "output_type": "execute_result"
    }
   ],
   "source": [
    "agregate(5,0,0.001,4,True)"
   ]
  },
  {
   "cell_type": "code",
   "execution_count": 12,
   "id": "3e9dce3a",
   "metadata": {},
   "outputs": [],
   "source": [
    "# Get cobra predictions\n",
    "def cobra_surv(patient_id, epsilon, alpha = 4):\n",
    "    cobra_predictions = np.zeros(len(event_time)) \n",
    "    for time in range(len(event_time)):\n",
    "#         print('time',event_time[time])\n",
    "        cobra_predictions[time] = agregate(patient_id,time, epsilon,alpha)\n",
    "    return cobra_predictions"
   ]
  },
  {
   "cell_type": "code",
   "execution_count": 13,
   "id": "deb285d6",
   "metadata": {},
   "outputs": [],
   "source": [
    "cobra_predictions = cobra_surv(1, 0.001, alpha = 4)"
   ]
  },
  {
   "cell_type": "code",
   "execution_count": 14,
   "id": "4e4963f4",
   "metadata": {},
   "outputs": [
    {
     "data": {
      "text/plain": [
       "array([0.99805055, 0.9972721 , 0.9962559 , 0.99540621, 0.99425224,\n",
       "       0.99415505, 0.99321686, 0.9897943 , 0.98968984, 0.98931029,\n",
       "       0.98836916, 0.98824228, 0.98816606, 0.98716645, 0.98574098,\n",
       "       0.98365576, 0.9815018 , 0.97981855, 0.97768359, 0.97625438,\n",
       "       0.97478749, 0.97251105, 0.97250751, 0.96574031, 0.96408934,\n",
       "       0.96337985, 0.95900524, 0.95900517, 0.95899531, 0.95758667,\n",
       "       0.95642264, 0.95557463, 0.95259115, 0.95259113, 0.95092862,\n",
       "       0.95030143, 0.94740055, 0.94363658, 0.93992108, 0.93992072,\n",
       "       0.93992072, 0.939895  , 0.93873744, 0.93763666, 0.93682804,\n",
       "       0.93619768, 0.93619741, 0.91979102, 0.91979102, 0.91979095,\n",
       "       0.91979095, 0.91916296, 0.91911795, 0.91564679, 0.91564678,\n",
       "       0.90929277, 0.90556833, 0.90206874, 0.89957752, 0.89747876,\n",
       "       0.89747874, 0.89737133, 0.88807884, 0.88688169, 0.88433915,\n",
       "       0.88144746, 0.88144743, 0.87828464, 0.87689752, 0.8744829 ,\n",
       "       0.87256895, 0.86991908, 0.86991903, 0.86825231, 0.85917454,\n",
       "       0.8591744 , 0.85447237, 0.85171398, 0.85135314, 0.84700401,\n",
       "       0.83074403, 0.82413183, 0.82385438, 0.82332464, 0.82331362,\n",
       "       0.81956993, 0.81669623, 0.80989185, 0.80982298, 0.80022246,\n",
       "       0.80016542, 0.79463371, 0.78573545, 0.78112829, 0.78109435,\n",
       "       0.77631915, 0.76515727, 0.75945114, 0.75380379, 0.73888498,\n",
       "       0.73459249, 0.73096383, 0.71607455, 0.71138425, 0.70502279,\n",
       "       0.70014573, 0.68641295, 0.65962536, 0.63813572, 0.61195733,\n",
       "       0.58769999, 0.56564954, 0.50009199])"
      ]
     },
     "execution_count": 14,
     "metadata": {},
     "output_type": "execute_result"
    }
   ],
   "source": [
    "cobra_predictions"
   ]
  },
  {
   "cell_type": "code",
   "execution_count": 15,
   "id": "f28e66e3",
   "metadata": {},
   "outputs": [
    {
     "data": {
      "image/png": "[encoded data removed]",
      "text/plain": [
       "<Figure size 432x288 with 1 Axes>"
      ]
     },
     "metadata": {
      "needs_background": "light"
     },
     "output_type": "display_data"
    }
   ],
   "source": [
    "import pandas as pd\n",
    "import matplotlib.pyplot as plt\n",
    "import numpy as np\n",
    "%matplotlib inline\n",
    "\n",
    "\n",
    "plt.step(event_time, rsf_predictions[1], where=\"post\", label=str('RSF'))\n",
    "plt.step(event_time, deep_hit_predictions[1], where=\"post\", label=str('DeepHit'))\n",
    "plt.step(event_time, cobra_predictions, where=\"post\", label=str('Cobra'))\n",
    "plt.ylabel(\"Survival probability\")\n",
    "plt.xlabel(\"Time in days\")\n",
    "plt.legend()\n",
    "plt.grid(True)"
   ]
  },
  {
   "cell_type": "code",
   "execution_count": 16,
   "id": "e280a6b7",
   "metadata": {},
   "outputs": [],
   "source": [
    "def cobra_plot(patient_id, epsilon, alpha = 4):\n",
    "    cobra_predictions = np.zeros(len(event_time)) \n",
    "    for time in range(len(event_time)):\n",
    "        cobra_predictions[time] = agregate(patient_id,time, epsilon,alpha)\n",
    "    plt.step(event_time, rsf_predictions[patient_id], where=\"post\", label=str('RSF'))\n",
    "    plt.step(event_time, deep_hit_predictions[patient_id], where=\"post\", label=str('DeepHit'))\n",
    "    plt.step(event_time, mltr_predictions[patient_id], where=\"post\", label=str('MLTR'))\n",
    "    plt.step(event_time, cox_time_predictions[patient_id], where=\"post\", label=str('Cox_Time'))\n",
    "    plt.step(event_time, cobra_predictions, where=\"post\", label=str('Cobra'))\n",
    "    plt.ylabel(\"Survival probability\")\n",
    "    plt.xlabel(\"Time in days\")\n",
    "    plt.legend()\n",
    "    plt.grid(True)"
   ]
  },
  {
   "cell_type": "code",
   "execution_count": 17,
   "id": "0f01e94d",
   "metadata": {},
   "outputs": [
    {
     "data": {
      "image/png": "[encoded data removed]",
      "text/plain": [
       "<Figure size 432x288 with 1 Axes>"
      ]
     },
     "metadata": {
      "needs_background": "light"
     },
     "output_type": "display_data"
    }
   ],
   "source": [
    "cobra_plot(43, 0.0001, alpha = 4)"
   ]
  },
  {
   "cell_type": "code",
   "execution_count": 18,
   "id": "87cbe482",
   "metadata": {},
   "outputs": [],
   "source": [
    "# pickle.dump( cobra_predictions, open( \"patient_surv_functions/cobra.p\", \"wb\" ) )"
   ]
  },
  {
   "cell_type": "code",
   "execution_count": 19,
   "id": "5cc1c0d9",
   "metadata": {},
   "outputs": [],
   "source": [
    "cobra_predictions_dictionary = {}\n",
    "\n",
    "for patient in range(312):\n",
    "    cobra_predictions = cobra_surv(patient, 0.0001, alpha = 4)\n",
    "    cobra_predictions_dictionary[patient] = cobra_predictions"
   ]
  },
  {
   "cell_type": "code",
   "execution_count": 20,
   "id": "965b1c0b",
   "metadata": {},
   "outputs": [
    {
     "data": {
      "text/plain": [
       "array([-0.00711504, -0.00991653, -0.01376887, -0.0170925 , -0.02139313,\n",
       "       -0.02199563, -0.02487278, -0.02714167, -0.02746384, -0.0287616 ,\n",
       "       -0.03186545, -0.03332795, -0.03427933, -0.03741349, -0.04048577,\n",
       "       -0.04667866, -0.04895368, -0.05167952, -0.05563845, -0.0585201 ,\n",
       "       -0.06122569, -0.06406794, -0.06423873, -0.06752828, -0.07197905,\n",
       "       -0.07356957, -0.0753388 , -0.07535591, -0.07598328, -0.07913559,\n",
       "       -0.0810056 , -0.08272671, -0.08529436, -0.08530059, -0.08890026,\n",
       "       -0.09042056, -0.09473315, -0.09748793, -0.10023062, -0.10027981,\n",
       "       -0.10029051, -0.1013525 , -0.10453072, -0.10757535, -0.11047503,\n",
       "       -0.1133715 , -0.11342527, -0.10554306, -0.10565701, -0.10589897,\n",
       "       -0.106147  , -0.10952413, -0.11153699, -0.11592814, -0.11687525,\n",
       "       -0.12613398, -0.1287225 , -0.13369353, -0.13954888, -0.14678552,\n",
       "       -0.14762559, -0.14895439, -0.15872561, -0.16428578, -0.17350244,\n",
       "       -0.18069887, -0.18149453, -0.18501056, -0.18963436, -0.19928928,\n",
       "       -0.20681545, -0.21386683, -0.2170042 , -0.22112486, -0.22651469,\n",
       "       -0.22741337, -0.23768731, -0.25131577, -0.2642199 , -0.28111643,\n",
       "       -0.27966722, -0.30058373, -0.30403395, -0.30720258, -0.31121182,\n",
       "       -0.32801909, -0.34455607, -0.35599173, -0.36167171, -0.36644836,\n",
       "       -0.37423819, -0.40109625, -0.40791134, -0.42430736, -0.43400426,\n",
       "       -0.45788448, -0.47806306, -0.51416853, -0.52609948, -0.54433332,\n",
       "       -0.55630131, -0.56880054, -0.58311843, -0.58930045, -0.59045346,\n",
       "       -0.59278534, -0.59389401, -0.59212261, -0.5850306 , -0.58186143,\n",
       "       -0.58104268, -0.57992908, -0.56342946])"
      ]
     },
     "execution_count": 20,
     "metadata": {},
     "output_type": "execute_result"
    }
   ],
   "source": [
    "cobra_predictions_dictionary[4] - cobra_predictions_dictionary[12] "
   ]
  },
  {
   "cell_type": "code",
   "execution_count": 21,
   "id": "e83c08db",
   "metadata": {},
   "outputs": [],
   "source": [
    "pickle.dump( cobra_predictions_dictionary, open( \"patient_surv_functions/cobra.p\", \"wb\" ) )"
   ]
  },
  {
   "cell_type": "code",
   "execution_count": null,
   "id": "62a86150",
   "metadata": {},
   "outputs": [],
   "source": []
  }
 ],
 "metadata": {
  "kernelspec": {
   "display_name": "Python 3 (ipykernel)",
   "language": "python",
   "name": "python3"
  },
  "language_info": {
   "codemirror_mode": {
    "name": "ipython",
    "version": 3
   },
   "file_extension": ".py",
   "mimetype": "text/x-python",
   "name": "python",
   "nbconvert_exporter": "python",
   "pygments_lexer": "ipython3",
   "version": "3.9.6"
  }
 },
 "nbformat": 4,
 "nbformat_minor": 5
}
