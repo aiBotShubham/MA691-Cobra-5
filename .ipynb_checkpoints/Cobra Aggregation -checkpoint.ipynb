{
 "cells": [
  {
   "cell_type": "code",
   "execution_count": 1,
   "id": "cd57cb56",
   "metadata": {},
   "outputs": [],
   "source": [
    "from sklearn import linear_model\n",
    "from sklearn.tree import DecisionTreeRegressor\n",
    "from sklearn.ensemble import RandomForestRegressor\n",
    "from sklearn.svm import LinearSVR\n",
    "from sklearn.neural_network import MLPRegressor\n",
    "\n",
    "from sklearn.utils import shuffle\n",
    "from sklearn.base import BaseEstimator\n",
    "from sklearn.utils.validation import check_X_y, check_array, check_is_fitted\n",
    "from sklearn.model_selection import GridSearchCV\n",
    "\n",
    "import math\n",
    "import numpy as np\n",
    "import random\n",
    "import logging\n",
    "import numbers"
   ]
  },
  {
   "cell_type": "code",
   "execution_count": 7,
   "id": "3b6703ae",
   "metadata": {},
   "outputs": [],
   "source": [
    "random_state = 20\n",
    "epsilon = 0.1\n",
    "machine_list = ['RSF','DeepHit']   \n",
    "n_patients = 312"
   ]
  },
  {
   "cell_type": "code",
   "execution_count": 3,
   "id": "401e25bc",
   "metadata": {},
   "outputs": [],
   "source": [
    "# Import Predictions\n",
    "import pickle\n",
    "\"\"\"Dictionaries of the form {'patient_id':'Predictions_array'}\"\"\"\n",
    "rsf_predictions = pickle.load( open( \"patient_surv_functions/rsf.p\", \"rb\" ) )\n",
    "deep_hit_predictions = pickle.load( open( \"patient_surv_functions/deep_hit.p\", \"rb\" ) )"
   ]
  },
  {
   "cell_type": "code",
   "execution_count": 6,
   "id": "930774be",
   "metadata": {},
   "outputs": [],
   "source": [
    "# Timepoints taken in considerations format : float\n",
    "event_time = [  8.,  11.,  16.,  20.,  26.,  27.,  29.,  30.,  31.,  32.,  38.,\n",
    "        44.,  47.,  50.,  56.,  74.,  76.,  79.,  89.,  96.,  99., 101.,\n",
    "       105., 109., 112., 114., 118., 120., 122., 125., 127., 129., 133.,\n",
    "       134., 135., 139., 143., 145., 148., 152., 154., 155., 165., 166.,\n",
    "       167., 170., 173., 185., 186., 193., 194., 201., 204., 205., 206.,\n",
    "       213., 215., 219., 220., 235., 236., 239., 241., 248., 255., 261.,\n",
    "       263., 264., 267., 271., 275., 278., 285., 287., 292., 293., 297.,\n",
    "       298., 303., 317., 322., 328., 332., 335., 336., 340., 345., 353.,\n",
    "       357., 362., 364., 368., 370., 395., 399., 411., 438., 440., 441.,\n",
    "       459., 462., 468., 482., 484., 489., 491., 511., 525., 536., 547.,\n",
    "       549., 556., 597.]"
   ]
  },
  {
   "cell_type": "code",
   "execution_count": 8,
   "id": "e85deb2e",
   "metadata": {},
   "outputs": [],
   "source": [
    "def load_machine_predictions(machine_list,time):\n",
    "    \"\"\"\n",
    "    TODO rewrite this\\\\\\///\n",
    "    Stores the trained machines' predicitons on training data in a dictionary, to be used for predictions.\n",
    "    Should be run after all the machines to be used for aggregation is loaded.\n",
    "    Parameters\n",
    "    ----------\n",
    "    predictions: dictionary, optional\n",
    "        A pre-existing machine:predictions dictionary can also be loaded.\n",
    "    Returns\n",
    "    -------\n",
    "    self : returns an instance of self.\n",
    "    \"\"\"\n",
    "    machine_predictions_ = {}\n",
    "    all_predictions_ = np.array([])\n",
    "    for machine in machine_list:\n",
    "        if machine == 'RSF':\n",
    "            surv_probablity = np.zeros(n_patients)\n",
    "            for id in range(n_patients):\n",
    "                surv_probablity[id] = deep_hit_predictions[id][time]\n",
    "            machine_predictions_[machine] = surv_probablity\n",
    "        if machine == 'DeepHit':\n",
    "            surv_probablity = np.zeros(n_patients)\n",
    "            for id in range(n_patients):\n",
    "                surv_probablity[id] = deep_hit_predictions[id][time]\n",
    "            machine_predictions_[machine] = surv_probablity\n",
    "        # all_predictions_ is used in the diagnostics class, and for initialising epsilon\n",
    "        all_predictions_ = np.append(all_predictions_, machine_predictions_[machine])\n",
    "\n",
    "    return machine_predictions_,all_predictions_"
   ]
  },
  {
   "cell_type": "code",
   "execution_count": 13,
   "id": "9b94e9a8",
   "metadata": {},
   "outputs": [],
   "source": [
    "mp,ap = load_machine_predictions(machine_list,0)"
   ]
  },
  {
   "cell_type": "code",
   "execution_count": 14,
   "id": "8c31f33c",
   "metadata": {},
   "outputs": [
    {
     "data": {
      "text/plain": [
       "(624,)"
      ]
     },
     "execution_count": 14,
     "metadata": {},
     "output_type": "execute_result"
    }
   ],
   "source": [
    "np.shape(ap)"
   ]
  },
  {
   "cell_type": "code",
   "execution_count": 63,
   "id": "43f10025",
   "metadata": {},
   "outputs": [
    {
     "ename": "SyntaxError",
     "evalue": "invalid syntax (Temp/ipykernel_25172/137235340.py, line 43)",
     "output_type": "error",
     "traceback": [
      "\u001b[1;36m  File \u001b[1;32m\"C:\\Users\\SHUBHAM\\AppData\\Local\\Temp/ipykernel_25172/137235340.py\"\u001b[1;36m, line \u001b[1;32m43\u001b[0m\n\u001b[1;33m    if row_check = alpha:\u001b[0m\n\u001b[1;37m                 ^\u001b[0m\n\u001b[1;31mSyntaxError\u001b[0m\u001b[1;31m:\u001b[0m invalid syntax\n"
     ]
    }
   ],
   "source": [
    "def get_points(patient_id,time,epsilon, alpha = 2,info = True):\n",
    "    \"\"\"\n",
    "    Performs the COBRA aggregation scheme, used in predict method.\n",
    "    Parameters\n",
    "    ----------\n",
    "    X: array-like, [n_features]\n",
    "    alpha: int, optional\n",
    "        alpha refers to the number of machines the prediction must be close to to be considered during aggregation.\n",
    "    info: boolean, optional\n",
    "        If info is true the list of points selected in the aggregation is returned.\n",
    "    Returns\n",
    "    -------\n",
    "    avg: prediction\n",
    "    \"\"\"\n",
    "\n",
    "    # dictionary mapping machine to points selected\n",
    "    select = {}\n",
    "    machine_predictions, all_predictions = load_machine_predictions(machine_list,time)\n",
    "    for machine in machine_list:\n",
    "        # machine prediction\n",
    "        val = machine_predictions[machine][patient_id]\n",
    "#         val = self.estimators_[machine].predict(X)\n",
    "        select[machine] = set()\n",
    "        # iterating from l to n\n",
    "        # replace with numpy iteration\n",
    "        for count in range(0, n_patients):\n",
    "            try:\n",
    "                # if value is close to prediction, select the indice\n",
    "                if math.fabs(machine_predictions[machine][count] - val) <= epsilon:\n",
    "                    select[machine].add(count)\n",
    "            except (ValueError, TypeError) as e:\n",
    "                logger.info(\"Error in indice selection\")\n",
    "                continue\n",
    "\n",
    "    points = []\n",
    "#     # count is the indice number.\n",
    "    for count in range(0, n_patients):\n",
    "        # row check is number of machines which picked up a particular point\n",
    "        row_check = 0\n",
    "        for machine in select:\n",
    "            if count in select[machine]:\n",
    "                row_check += 1\n",
    "        if row_check = alpha:\n",
    "            points.append(count)\n",
    "\n",
    "#     # if no points are selected, return 0\n",
    "#     if len(points) == 0:\n",
    "#         if info:\n",
    "#             logger.info(\"No points were selected, prediction is 0\")\n",
    "#         return machine_predictions['deep_hit'][patient_id]\n",
    "\n",
    "#     # aggregate\n",
    "#     avg = 0\n",
    "#     for point in points:\n",
    "#         avg += self.y_l_[point]\n",
    "#     avg = avg / len(points)\n",
    "\n",
    "#     if info:\n",
    "#         return avg, points\n",
    "    return points"
   ]
  },
  {
   "cell_type": "code",
   "execution_count": 64,
   "id": "2704c099",
   "metadata": {},
   "outputs": [
    {
     "data": {
      "text/plain": [
       "[0,\n",
       " 9,\n",
       " 17,\n",
       " 22,\n",
       " 26,\n",
       " 27,\n",
       " 29,\n",
       " 36,\n",
       " 62,\n",
       " 75,\n",
       " 76,\n",
       " 143,\n",
       " 148,\n",
       " 153,\n",
       " 155,\n",
       " 163,\n",
       " 190,\n",
       " 207,\n",
       " 216,\n",
       " 222,\n",
       " 226,\n",
       " 242,\n",
       " 266,\n",
       " 280,\n",
       " 292,\n",
       " 299]"
      ]
     },
     "execution_count": 64,
     "metadata": {},
     "output_type": "execute_result"
    }
   ],
   "source": [
    "get_points(0,0,0.001,1,True)"
   ]
  },
  {
   "cell_type": "code",
   "execution_count": 65,
   "id": "76363553",
   "metadata": {},
   "outputs": [],
   "source": [
    "def agregate(patient_id,time,epsilon, alpha = 1,info = True, test = False):\n",
    "    points = get_points(patient_id,time,epsilon, alpha,info = True)\n",
    "    avg = 0\n",
    "    machine_predictions, all_predictions = load_machine_predictions(machine_list,time)\n",
    "    for point in points:\n",
    "        for machines in machine_predictions:\n",
    "            avg += machine_predictions[machines][point]\n",
    "    \n",
    "    avg = avg / (len(points)*2)\n",
    "    if test:\n",
    "        for machine in machine_predictions:\n",
    "            print(machine, machine_predictions[machine][patient_id])\n",
    "    return avg\n",
    "        "
   ]
  },
  {
   "cell_type": "code",
   "execution_count": 66,
   "id": "320fe8ec",
   "metadata": {},
   "outputs": [
    {
     "data": {
      "text/plain": [
       "0.9763981058047368"
      ]
     },
     "execution_count": 66,
     "metadata": {},
     "output_type": "execute_result"
    }
   ],
   "source": [
    "agregate(0,0,0.001,1,True)"
   ]
  },
  {
   "cell_type": "code",
   "execution_count": 67,
   "id": "3e9dce3a",
   "metadata": {},
   "outputs": [],
   "source": [
    "# Get cobra predictions\n",
    "def cobra_surv(patient_id, epsilon, alpha = 1):\n",
    "    cobra_predictions = np.zeros(len(event_time)) \n",
    "    for time in range(len(event_time)):\n",
    "        cobra_predictions[time] = agregate(patient_id,time, epsilon,alpha)\n",
    "    return cobra_predictions"
   ]
  },
  {
   "cell_type": "code",
   "execution_count": 68,
   "id": "deb285d6",
   "metadata": {},
   "outputs": [],
   "source": [
    "cobra_predictions = cobra_surv(1, 0.001, alpha = 1)"
   ]
  },
  {
   "cell_type": "code",
   "execution_count": 69,
   "id": "4e4963f4",
   "metadata": {},
   "outputs": [
    {
     "data": {
      "text/plain": [
       "array([0.99620201, 0.9945204 , 0.99249039, 0.99083117, 0.98862744,\n",
       "       0.98847914, 0.98642641, 0.979592  , 0.97936242, 0.97880427,\n",
       "       0.97703829, 0.97679065, 0.97665883, 0.97471656, 0.97165535,\n",
       "       0.96734086, 0.96302912, 0.95966989, 0.95542695, 0.95257987,\n",
       "       0.94965851, 0.94511795, 0.94511083, 0.93160826, 0.92833705,\n",
       "       0.92691576, 0.91816489, 0.91816473, 0.91816345, 0.91534218,\n",
       "       0.91301174, 0.9113137 , 0.90534489, 0.90534486, 0.90206267,\n",
       "       0.90080659, 0.8949119 , 0.88742605, 0.88003877, 0.88003799,\n",
       "       0.88003801, 0.88003799, 0.87796448, 0.87581533, 0.8742546 ,\n",
       "       0.87306078, 0.87306027, 0.8402203 , 0.8402203 , 0.84022015,\n",
       "       0.84022014, 0.8392359 , 0.83923588, 0.83238043, 0.83238037,\n",
       "       0.81986282, 0.81241248, 0.80551237, 0.8006291 , 0.79665923,\n",
       "       0.79665921, 0.79644281, 0.77853994, 0.77630919, 0.77162391,\n",
       "       0.76610577, 0.76610575, 0.75977763, 0.75699808, 0.75247027,\n",
       "       0.74863911, 0.74333451, 0.74333449, 0.73999643, 0.72230281,\n",
       "       0.72230279, 0.71347491, 0.70860487, 0.70860487, 0.70068266,\n",
       "       0.66903873, 0.65670739, 0.65616137, 0.65510184, 0.65510182,\n",
       "       0.64871907, 0.64412751, 0.63181851, 0.63181851, 0.6141662 ,\n",
       "       0.61416624, 0.60470092, 0.58699528, 0.57785106, 0.57785102,\n",
       "       0.57090505, 0.55184122, 0.55184122, 0.54109496, 0.51818097,\n",
       "       0.51066933, 0.51066933, 0.49023937, 0.49023938, 0.47774106,\n",
       "       0.47774102, 0.47774094, 0.46350391, 0.44499782, 0.42984627,\n",
       "       0.42984625, 0.41663815, 0.41663779])"
      ]
     },
     "execution_count": 69,
     "metadata": {},
     "output_type": "execute_result"
    }
   ],
   "source": [
    "cobra_predictions"
   ]
  },
  {
   "cell_type": "code",
   "execution_count": 70,
   "id": "f28e66e3",
   "metadata": {},
   "outputs": [
    {
     "data": {
      "image/png": "[encoded data removed]",
      "text/plain": [
       "<Figure size 432x288 with 1 Axes>"
      ]
     },
     "metadata": {
      "needs_background": "light"
     },
     "output_type": "display_data"
    }
   ],
   "source": [
    "import pandas as pd\n",
    "import matplotlib.pyplot as plt\n",
    "import numpy as np\n",
    "%matplotlib inline\n",
    "\n",
    "\n",
    "plt.step(event_time, rsf_predictions[1], where=\"post\", label=str('RSF'))\n",
    "plt.step(event_time, deep_hit_predictions[1], where=\"post\", label=str('DeepHit'))\n",
    "plt.step(event_time, cobra_predictions, where=\"post\", label=str('Cobra'))\n",
    "plt.ylabel(\"Survival probability\")\n",
    "plt.xlabel(\"Time in days\")\n",
    "plt.legend()\n",
    "plt.grid(True)"
   ]
  },
  {
   "cell_type": "code",
   "execution_count": 71,
   "id": "e280a6b7",
   "metadata": {},
   "outputs": [],
   "source": [
    "def cobra_plot(patient_id, epsilon, alpha = 1):\n",
    "    cobra_predictions = np.zeros(len(event_time)) \n",
    "    for time in range(len(event_time)):\n",
    "        cobra_predictions[time] = agregate(patient_id,time, epsilon,alpha)\n",
    "    plt.step(event_time, rsf_predictions[patient_id], where=\"post\", label=str('RSF'))\n",
    "    plt.step(event_time, deep_hit_predictions[patient_id], where=\"post\", label=str('DeepHit'))\n",
    "    plt.step(event_time, cobra_predictions, where=\"post\", label=str('Cobra'))\n",
    "    plt.ylabel(\"Survival probability\")\n",
    "    plt.xlabel(\"Time in days\")\n",
    "    plt.legend()\n",
    "    plt.grid(True)"
   ]
  },
  {
   "cell_type": "code",
   "execution_count": 72,
   "id": "0f01e94d",
   "metadata": {},
   "outputs": [
    {
     "data": {
      "image/png": "[encoded data removed]",
      "text/plain": [
       "<Figure size 432x288 with 1 Axes>"
      ]
     },
     "metadata": {
      "needs_background": "light"
     },
     "output_type": "display_data"
    }
   ],
   "source": [
    "cobra_plot(1, 0.001, alpha = 1)"
   ]
  },
  {
   "cell_type": "code",
   "execution_count": null,
   "id": "87cbe482",
   "metadata": {},
   "outputs": [],
   "source": []
  }
 ],
 "metadata": {
  "kernelspec": {
   "display_name": "Python 3 (ipykernel)",
   "language": "python",
   "name": "python3"
  },
  "language_info": {
   "codemirror_mode": {
    "name": "ipython",
    "version": 3
   },
   "file_extension": ".py",
   "mimetype": "text/x-python",
   "name": "python",
   "nbconvert_exporter": "python",
   "pygments_lexer": "ipython3",
   "version": "3.9.6"
  }
 },
 "nbformat": 4,
 "nbformat_minor": 5
}
