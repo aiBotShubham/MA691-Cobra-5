{
 "cells": [
  {
   "cell_type": "code",
   "execution_count": 1,
   "id": "6f6ae1de",
   "metadata": {},
   "outputs": [],
   "source": [
    "import numpy as np\n",
    "import pandas as pd\n",
    "import random\n",
    "import os\n",
    "\n",
    "from sklearn.model_selection import train_test_split"
   ]
  },
  {
   "cell_type": "code",
   "execution_count": 2,
   "id": "3e2485f7",
   "metadata": {},
   "outputs": [],
   "source": [
    "def f_get_Normalization(X, norm_mode):    \n",
    "    num_Patient, num_Feature = np.shape(X)\n",
    "    \n",
    "    if norm_mode == 'standard': #zero mean unit variance\n",
    "        for j in range(num_Feature):\n",
    "            if np.nanstd(X[:,j]) != 0:\n",
    "                X[:,j] = (X[:,j] - np.nanmean(X[:, j]))/np.nanstd(X[:,j])\n",
    "            else:\n",
    "                X[:,j] = (X[:,j] - np.nanmean(X[:, j]))\n",
    "    elif norm_mode == 'normal': #min-max normalization\n",
    "        for j in range(num_Feature):\n",
    "            X[:,j] = (X[:,j] - np.nanmin(X[:,j]))/(np.nanmax(X[:,j]) - np.nanmin(X[:,j]))\n",
    "    else:\n",
    "        print(\"INPUT MODE ERROR!\")\n",
    "    \n",
    "    return X\n",
    "\n",
    "\n",
    "def f_get_fc_mask1(meas_time, num_Event, num_Category):\n",
    "    '''\n",
    "        mask3 is required to get the contional probability (to calculate the denominator part)\n",
    "        mask3 size is [N, num_Event, num_Category]. 1's until the last measurement time\n",
    "    '''\n",
    "    mask = np.zeros([np.shape(meas_time)[0], num_Event, num_Category]) # for denominator\n",
    "    for i in range(np.shape(meas_time)[0]):\n",
    "        mask[i, :, :int(meas_time[i, 0]+1)] = 1 # last measurement time\n",
    "\n",
    "    return mask\n",
    "\n",
    "\n",
    "def f_get_fc_mask2(time, label, num_Event, num_Category):\n",
    "    '''\n",
    "        mask4 is required to get the log-likelihood loss \n",
    "        mask4 size is [N, num_Event, num_Category]\n",
    "            if not censored : one element = 1 (0 elsewhere)\n",
    "            if censored     : fill elements with 1 after the censoring time (for all events)\n",
    "    '''\n",
    "    mask = np.zeros([np.shape(time)[0], num_Event, num_Category]) # for the first loss function\n",
    "    for i in range(np.shape(time)[0]):\n",
    "        if label[i,0] != 0:  #not censored\n",
    "            mask[i,int(label[i,0]-1),int(time[i,0])] = 1\n",
    "        else: #label[i,2]==0: censored\n",
    "            mask[i,:,int(time[i,0]+1):] =  1 #fill 1 until from the censoring time (to get 1 - \\sum F)\n",
    "    return mask\n",
    "\n",
    "\n",
    "def f_get_fc_mask3(time, meas_time, num_Category):\n",
    "    '''\n",
    "        mask5 is required calculate the ranking loss (for pair-wise comparision)\n",
    "        mask5 size is [N, num_Category]. \n",
    "        - For longitudinal measurements:\n",
    "             1's from the last measurement to the event time (exclusive and inclusive, respectively)\n",
    "             denom is not needed since comparing is done over the same denom\n",
    "        - For single measurement:\n",
    "             1's from start to the event time(inclusive)\n",
    "    '''\n",
    "    mask = np.zeros([np.shape(time)[0], num_Category]) # for the first loss function\n",
    "    if np.shape(meas_time):  #lonogitudinal measurements \n",
    "        for i in range(np.shape(time)[0]):\n",
    "            t1 = int(meas_time[i, 0]) # last measurement time\n",
    "            t2 = int(time[i, 0]) # censoring/event time\n",
    "            mask[i,(t1+1):(t2+1)] = 1  #this excludes the last measurement time and includes the event time\n",
    "    else:                    #single measurement\n",
    "        for i in range(np.shape(time)[0]):\n",
    "            t = int(time[i, 0]) # censoring/event time\n",
    "            mask[i,:(t+1)] = 1  #this excludes the last measurement time and includes the event time\n",
    "    return mask\n",
    "\n",
    "\n",
    "\n",
    "##### TRANSFORMING DATA\n",
    "def f_construct_dataset(df, feat_list):\n",
    "    '''\n",
    "        id   : patient indicator\n",
    "        tte  : time-to-event or time-to-censoring\n",
    "            - must be synchronized based on the reference time\n",
    "        times: time at which observations are measured\n",
    "            - must be synchronized based on the reference time (i.e., times start from 0)\n",
    "        label: event/censoring information\n",
    "            - 0: censoring\n",
    "            - 1: event type 1\n",
    "            - 2: event type 2\n",
    "            ...\n",
    "    '''\n",
    "\n",
    "    grouped  = df.groupby(['id'])\n",
    "    id_list  = pd.unique(df['id'])\n",
    "    max_meas = np.max(grouped.count())[0]\n",
    "\n",
    "    data     = np.zeros([len(id_list), max_meas, len(feat_list)+1])\n",
    "    pat_info = np.zeros([len(id_list), 5])\n",
    "\n",
    "    for i, tmp_id in enumerate(id_list):\n",
    "        tmp = grouped.get_group(tmp_id).reset_index(drop=True)\n",
    "\n",
    "        pat_info[i,4] = tmp.shape[0]                                   #number of measurement\n",
    "        pat_info[i,3] = np.max(tmp['times'])     #last measurement time\n",
    "        pat_info[i,2] = tmp['label'][0]      #cause\n",
    "        pat_info[i,1] = tmp['tte'][0]         #time_to_event\n",
    "        pat_info[i,0] = tmp['id'][0]      \n",
    "\n",
    "        data[i, :int(pat_info[i, 4]), 1:]  = tmp[feat_list]\n",
    "        data[i, :int(pat_info[i, 4]-1), 0] = np.diff(tmp['times'])\n",
    "    \n",
    "    return pat_info, data\n",
    "\n",
    "\n",
    "def import_dataset(norm_mode = 'standard'):\n",
    "\n",
    "    df_                = pd.read_csv('pbc2_cleaned.csv')\n",
    "\n",
    "    bin_list           = ['drug', 'sex', 'ascites', 'hepatomegaly', 'spiders']\n",
    "    cont_list          = ['age', 'edema', 'serBilir', 'serChol', 'albumin', 'alkaline', 'SGOT', 'platelets', 'prothrombin', 'histologic']\n",
    "    feat_list          = cont_list + bin_list\n",
    "    df_                = df_[['id', 'tte', 'times', 'label']+feat_list]\n",
    "    df_org_            = df_.copy(deep=True)\n",
    "\n",
    "    df_[cont_list]     = f_get_Normalization(np.asarray(df_[cont_list]).astype(float), norm_mode)\n",
    "\n",
    "    pat_info, data     = f_construct_dataset(df_, feat_list)\n",
    "    _, data_org        = f_construct_dataset(df_org_, feat_list)\n",
    "\n",
    "    data_mi                  = np.zeros(np.shape(data))\n",
    "    data_mi[np.isnan(data)]  = 1\n",
    "    data_org[np.isnan(data)] = 0\n",
    "    data[np.isnan(data)]     = 0 \n",
    "\n",
    "    x_dim           = np.shape(data)[2] # 1 + x_dim_cont + x_dim_bin (including delta)\n",
    "    x_dim_cont      = len(cont_list)\n",
    "    x_dim_bin       = len(bin_list) \n",
    "\n",
    "    last_meas       = pat_info[:,[3]]  #pat_info[:, 3] contains age at the last measurement\n",
    "    label           = pat_info[:,[2]]  #two competing risks\n",
    "    time            = pat_info[:,[1]]  #age when event occurred\n",
    "\n",
    "    num_Category    = int(np.max(pat_info[:, 1]) * 1.2) #or specifically define larger than the max tte\n",
    "    num_Event       = len(np.unique(label)) - 1\n",
    "\n",
    "    if num_Event == 1:\n",
    "        label[np.where(label!=0)] = 1 #make single risk\n",
    "\n",
    "    mask1           = f_get_fc_mask1(last_meas, num_Event, num_Category)\n",
    "    mask2           = f_get_fc_mask2(time, label, num_Event, num_Category)\n",
    "    mask3           = f_get_fc_mask3(time, -1, num_Category)\n",
    "\n",
    "    DIM             = (x_dim, x_dim_cont, x_dim_bin)\n",
    "    DATA            = (data, time, label)\n",
    "    # DATA            = (data, data_org, time, label)\n",
    "    MASK            = (mask1, mask2, mask3)\n",
    "\n",
    "    return DIM, DATA, MASK, data_mi"
   ]
  },
  {
   "cell_type": "code",
   "execution_count": 3,
   "id": "e6245789",
   "metadata": {},
   "outputs": [],
   "source": [
    "df = pd.read_csv('pbc2_cleaned.csv')\n",
    "\n",
    "DIM, DATA, MASK, data_mi = import_dataset()"
   ]
  },
  {
   "cell_type": "code",
   "execution_count": 4,
   "id": "349074fb",
   "metadata": {},
   "outputs": [
    {
     "data": {
      "text/html": [
       "<div>\n",
       "<style scoped>\n",
       "    .dataframe tbody tr th:only-of-type {\n",
       "        vertical-align: middle;\n",
       "    }\n",
       "\n",
       "    .dataframe tbody tr th {\n",
       "        vertical-align: top;\n",
       "    }\n",
       "\n",
       "    .dataframe thead th {\n",
       "        text-align: right;\n",
       "    }\n",
       "</style>\n",
       "<table border=\"1\" class=\"dataframe\">\n",
       "  <thead>\n",
       "    <tr style=\"text-align: right;\">\n",
       "      <th></th>\n",
       "      <th>id</th>\n",
       "      <th>tte</th>\n",
       "      <th>times</th>\n",
       "      <th>label</th>\n",
       "      <th>drug</th>\n",
       "      <th>age</th>\n",
       "      <th>sex</th>\n",
       "      <th>ascites</th>\n",
       "      <th>hepatomegaly</th>\n",
       "      <th>spiders</th>\n",
       "      <th>edema</th>\n",
       "      <th>serBilir</th>\n",
       "      <th>serChol</th>\n",
       "      <th>albumin</th>\n",
       "      <th>alkaline</th>\n",
       "      <th>SGOT</th>\n",
       "      <th>platelets</th>\n",
       "      <th>prothrombin</th>\n",
       "      <th>histologic</th>\n",
       "    </tr>\n",
       "  </thead>\n",
       "  <tbody>\n",
       "    <tr>\n",
       "      <th>1930</th>\n",
       "      <td>309</td>\n",
       "      <td>237.0</td>\n",
       "      <td>184.0</td>\n",
       "      <td>0.0</td>\n",
       "      <td>0</td>\n",
       "      <td>58.301391</td>\n",
       "      <td>0</td>\n",
       "      <td>0.0</td>\n",
       "      <td>0.0</td>\n",
       "      <td>0.0</td>\n",
       "      <td>0</td>\n",
       "      <td>0.6</td>\n",
       "      <td>250.0</td>\n",
       "      <td>3.23</td>\n",
       "      <td>1054.0</td>\n",
       "      <td>90.0</td>\n",
       "      <td>188.0</td>\n",
       "      <td>11.7</td>\n",
       "      <td>3</td>\n",
       "    </tr>\n",
       "    <tr>\n",
       "      <th>1931</th>\n",
       "      <td>310</td>\n",
       "      <td>229.0</td>\n",
       "      <td>0.0</td>\n",
       "      <td>0.0</td>\n",
       "      <td>1</td>\n",
       "      <td>62.334355</td>\n",
       "      <td>0</td>\n",
       "      <td>0.0</td>\n",
       "      <td>0.0</td>\n",
       "      <td>0.0</td>\n",
       "      <td>1</td>\n",
       "      <td>1.7</td>\n",
       "      <td>434.0</td>\n",
       "      <td>3.35</td>\n",
       "      <td>1713.0</td>\n",
       "      <td>171.0</td>\n",
       "      <td>234.0</td>\n",
       "      <td>10.2</td>\n",
       "      <td>2</td>\n",
       "    </tr>\n",
       "    <tr>\n",
       "      <th>1932</th>\n",
       "      <td>310</td>\n",
       "      <td>229.0</td>\n",
       "      <td>38.0</td>\n",
       "      <td>0.0</td>\n",
       "      <td>1</td>\n",
       "      <td>62.334355</td>\n",
       "      <td>0</td>\n",
       "      <td>0.0</td>\n",
       "      <td>0.0</td>\n",
       "      <td>0.0</td>\n",
       "      <td>1</td>\n",
       "      <td>1.7</td>\n",
       "      <td>516.0</td>\n",
       "      <td>3.24</td>\n",
       "      <td>1661.0</td>\n",
       "      <td>82.0</td>\n",
       "      <td>249.0</td>\n",
       "      <td>9.9</td>\n",
       "      <td>3</td>\n",
       "    </tr>\n",
       "    <tr>\n",
       "      <th>1933</th>\n",
       "      <td>310</td>\n",
       "      <td>229.0</td>\n",
       "      <td>89.0</td>\n",
       "      <td>0.0</td>\n",
       "      <td>1</td>\n",
       "      <td>62.334355</td>\n",
       "      <td>0</td>\n",
       "      <td>0.0</td>\n",
       "      <td>1.0</td>\n",
       "      <td>0.0</td>\n",
       "      <td>1</td>\n",
       "      <td>2.2</td>\n",
       "      <td>386.0</td>\n",
       "      <td>2.94</td>\n",
       "      <td>1808.0</td>\n",
       "      <td>81.0</td>\n",
       "      <td>268.0</td>\n",
       "      <td>10.9</td>\n",
       "      <td>3</td>\n",
       "    </tr>\n",
       "    <tr>\n",
       "      <th>1934</th>\n",
       "      <td>310</td>\n",
       "      <td>229.0</td>\n",
       "      <td>141.0</td>\n",
       "      <td>0.0</td>\n",
       "      <td>1</td>\n",
       "      <td>62.334355</td>\n",
       "      <td>0</td>\n",
       "      <td>0.0</td>\n",
       "      <td>1.0</td>\n",
       "      <td>0.0</td>\n",
       "      <td>1</td>\n",
       "      <td>1.4</td>\n",
       "      <td>367.0</td>\n",
       "      <td>2.71</td>\n",
       "      <td>1584.0</td>\n",
       "      <td>72.0</td>\n",
       "      <td>260.0</td>\n",
       "      <td>11.3</td>\n",
       "      <td>3</td>\n",
       "    </tr>\n",
       "    <tr>\n",
       "      <th>1935</th>\n",
       "      <td>310</td>\n",
       "      <td>229.0</td>\n",
       "      <td>193.0</td>\n",
       "      <td>0.0</td>\n",
       "      <td>1</td>\n",
       "      <td>62.334355</td>\n",
       "      <td>0</td>\n",
       "      <td>0.0</td>\n",
       "      <td>1.0</td>\n",
       "      <td>0.0</td>\n",
       "      <td>1</td>\n",
       "      <td>1.8</td>\n",
       "      <td>364.0</td>\n",
       "      <td>3.19</td>\n",
       "      <td>1350.0</td>\n",
       "      <td>65.0</td>\n",
       "      <td>272.0</td>\n",
       "      <td>11.3</td>\n",
       "      <td>3</td>\n",
       "    </tr>\n",
       "    <tr>\n",
       "      <th>1936</th>\n",
       "      <td>311</td>\n",
       "      <td>215.0</td>\n",
       "      <td>0.0</td>\n",
       "      <td>0.0</td>\n",
       "      <td>1</td>\n",
       "      <td>37.999671</td>\n",
       "      <td>0</td>\n",
       "      <td>0.0</td>\n",
       "      <td>0.0</td>\n",
       "      <td>0.0</td>\n",
       "      <td>0</td>\n",
       "      <td>2.0</td>\n",
       "      <td>247.0</td>\n",
       "      <td>3.16</td>\n",
       "      <td>1050.0</td>\n",
       "      <td>117.0</td>\n",
       "      <td>335.0</td>\n",
       "      <td>10.5</td>\n",
       "      <td>2</td>\n",
       "    </tr>\n",
       "    <tr>\n",
       "      <th>1937</th>\n",
       "      <td>311</td>\n",
       "      <td>215.0</td>\n",
       "      <td>27.0</td>\n",
       "      <td>0.0</td>\n",
       "      <td>1</td>\n",
       "      <td>37.999671</td>\n",
       "      <td>0</td>\n",
       "      <td>0.0</td>\n",
       "      <td>NaN</td>\n",
       "      <td>NaN</td>\n",
       "      <td>0</td>\n",
       "      <td>1.5</td>\n",
       "      <td>NaN</td>\n",
       "      <td>3.41</td>\n",
       "      <td>2562.0</td>\n",
       "      <td>123.0</td>\n",
       "      <td>382.0</td>\n",
       "      <td>10.5</td>\n",
       "      <td>2</td>\n",
       "    </tr>\n",
       "    <tr>\n",
       "      <th>1938</th>\n",
       "      <td>311</td>\n",
       "      <td>215.0</td>\n",
       "      <td>57.0</td>\n",
       "      <td>0.0</td>\n",
       "      <td>1</td>\n",
       "      <td>37.999671</td>\n",
       "      <td>0</td>\n",
       "      <td>0.0</td>\n",
       "      <td>0.0</td>\n",
       "      <td>0.0</td>\n",
       "      <td>0</td>\n",
       "      <td>1.9</td>\n",
       "      <td>424.0</td>\n",
       "      <td>3.57</td>\n",
       "      <td>2516.0</td>\n",
       "      <td>166.0</td>\n",
       "      <td>408.0</td>\n",
       "      <td>10.6</td>\n",
       "      <td>3</td>\n",
       "    </tr>\n",
       "    <tr>\n",
       "      <th>1939</th>\n",
       "      <td>311</td>\n",
       "      <td>215.0</td>\n",
       "      <td>157.0</td>\n",
       "      <td>0.0</td>\n",
       "      <td>1</td>\n",
       "      <td>37.999671</td>\n",
       "      <td>0</td>\n",
       "      <td>0.0</td>\n",
       "      <td>0.0</td>\n",
       "      <td>0.0</td>\n",
       "      <td>0</td>\n",
       "      <td>0.6</td>\n",
       "      <td>391.0</td>\n",
       "      <td>3.40</td>\n",
       "      <td>2322.0</td>\n",
       "      <td>191.0</td>\n",
       "      <td>337.0</td>\n",
       "      <td>11.4</td>\n",
       "      <td>3</td>\n",
       "    </tr>\n",
       "    <tr>\n",
       "      <th>1940</th>\n",
       "      <td>312</td>\n",
       "      <td>208.0</td>\n",
       "      <td>0.0</td>\n",
       "      <td>0.0</td>\n",
       "      <td>0</td>\n",
       "      <td>33.153543</td>\n",
       "      <td>0</td>\n",
       "      <td>0.0</td>\n",
       "      <td>0.0</td>\n",
       "      <td>1.0</td>\n",
       "      <td>0</td>\n",
       "      <td>6.4</td>\n",
       "      <td>576.0</td>\n",
       "      <td>3.79</td>\n",
       "      <td>2115.0</td>\n",
       "      <td>136.0</td>\n",
       "      <td>200.0</td>\n",
       "      <td>10.8</td>\n",
       "      <td>2</td>\n",
       "    </tr>\n",
       "    <tr>\n",
       "      <th>1941</th>\n",
       "      <td>312</td>\n",
       "      <td>208.0</td>\n",
       "      <td>30.0</td>\n",
       "      <td>0.0</td>\n",
       "      <td>0</td>\n",
       "      <td>33.153543</td>\n",
       "      <td>0</td>\n",
       "      <td>0.0</td>\n",
       "      <td>0.0</td>\n",
       "      <td>0.0</td>\n",
       "      <td>0</td>\n",
       "      <td>5.5</td>\n",
       "      <td>NaN</td>\n",
       "      <td>3.20</td>\n",
       "      <td>1678.0</td>\n",
       "      <td>124.0</td>\n",
       "      <td>189.0</td>\n",
       "      <td>10.9</td>\n",
       "      <td>2</td>\n",
       "    </tr>\n",
       "    <tr>\n",
       "      <th>1942</th>\n",
       "      <td>312</td>\n",
       "      <td>208.0</td>\n",
       "      <td>56.0</td>\n",
       "      <td>0.0</td>\n",
       "      <td>0</td>\n",
       "      <td>33.153543</td>\n",
       "      <td>0</td>\n",
       "      <td>0.0</td>\n",
       "      <td>0.0</td>\n",
       "      <td>0.0</td>\n",
       "      <td>0</td>\n",
       "      <td>7.4</td>\n",
       "      <td>312.0</td>\n",
       "      <td>3.56</td>\n",
       "      <td>1767.0</td>\n",
       "      <td>166.0</td>\n",
       "      <td>148.0</td>\n",
       "      <td>11.7</td>\n",
       "      <td>2</td>\n",
       "    </tr>\n",
       "    <tr>\n",
       "      <th>1943</th>\n",
       "      <td>312</td>\n",
       "      <td>208.0</td>\n",
       "      <td>111.0</td>\n",
       "      <td>0.0</td>\n",
       "      <td>0</td>\n",
       "      <td>33.153543</td>\n",
       "      <td>0</td>\n",
       "      <td>0.0</td>\n",
       "      <td>0.0</td>\n",
       "      <td>1.0</td>\n",
       "      <td>1</td>\n",
       "      <td>16.3</td>\n",
       "      <td>688.0</td>\n",
       "      <td>3.34</td>\n",
       "      <td>2460.0</td>\n",
       "      <td>173.0</td>\n",
       "      <td>138.0</td>\n",
       "      <td>13.0</td>\n",
       "      <td>2</td>\n",
       "    </tr>\n",
       "    <tr>\n",
       "      <th>1944</th>\n",
       "      <td>312</td>\n",
       "      <td>208.0</td>\n",
       "      <td>154.0</td>\n",
       "      <td>0.0</td>\n",
       "      <td>0</td>\n",
       "      <td>33.153543</td>\n",
       "      <td>0</td>\n",
       "      <td>0.0</td>\n",
       "      <td>0.0</td>\n",
       "      <td>1.0</td>\n",
       "      <td>1</td>\n",
       "      <td>23.4</td>\n",
       "      <td>741.0</td>\n",
       "      <td>3.42</td>\n",
       "      <td>3012.0</td>\n",
       "      <td>200.0</td>\n",
       "      <td>128.0</td>\n",
       "      <td>13.4</td>\n",
       "      <td>3</td>\n",
       "    </tr>\n",
       "  </tbody>\n",
       "</table>\n",
       "</div>"
      ],
      "text/plain": [
       "       id    tte  times  label  drug        age  sex  ascites  hepatomegaly  \\\n",
       "1930  309  237.0  184.0    0.0     0  58.301391    0      0.0           0.0   \n",
       "1931  310  229.0    0.0    0.0     1  62.334355    0      0.0           0.0   \n",
       "1932  310  229.0   38.0    0.0     1  62.334355    0      0.0           0.0   \n",
       "1933  310  229.0   89.0    0.0     1  62.334355    0      0.0           1.0   \n",
       "1934  310  229.0  141.0    0.0     1  62.334355    0      0.0           1.0   \n",
       "1935  310  229.0  193.0    0.0     1  62.334355    0      0.0           1.0   \n",
       "1936  311  215.0    0.0    0.0     1  37.999671    0      0.0           0.0   \n",
       "1937  311  215.0   27.0    0.0     1  37.999671    0      0.0           NaN   \n",
       "1938  311  215.0   57.0    0.0     1  37.999671    0      0.0           0.0   \n",
       "1939  311  215.0  157.0    0.0     1  37.999671    0      0.0           0.0   \n",
       "1940  312  208.0    0.0    0.0     0  33.153543    0      0.0           0.0   \n",
       "1941  312  208.0   30.0    0.0     0  33.153543    0      0.0           0.0   \n",
       "1942  312  208.0   56.0    0.0     0  33.153543    0      0.0           0.0   \n",
       "1943  312  208.0  111.0    0.0     0  33.153543    0      0.0           0.0   \n",
       "1944  312  208.0  154.0    0.0     0  33.153543    0      0.0           0.0   \n",
       "\n",
       "      spiders  edema  serBilir  serChol  albumin  alkaline   SGOT  platelets  \\\n",
       "1930      0.0      0       0.6    250.0     3.23    1054.0   90.0      188.0   \n",
       "1931      0.0      1       1.7    434.0     3.35    1713.0  171.0      234.0   \n",
       "1932      0.0      1       1.7    516.0     3.24    1661.0   82.0      249.0   \n",
       "1933      0.0      1       2.2    386.0     2.94    1808.0   81.0      268.0   \n",
       "1934      0.0      1       1.4    367.0     2.71    1584.0   72.0      260.0   \n",
       "1935      0.0      1       1.8    364.0     3.19    1350.0   65.0      272.0   \n",
       "1936      0.0      0       2.0    247.0     3.16    1050.0  117.0      335.0   \n",
       "1937      NaN      0       1.5      NaN     3.41    2562.0  123.0      382.0   \n",
       "1938      0.0      0       1.9    424.0     3.57    2516.0  166.0      408.0   \n",
       "1939      0.0      0       0.6    391.0     3.40    2322.0  191.0      337.0   \n",
       "1940      1.0      0       6.4    576.0     3.79    2115.0  136.0      200.0   \n",
       "1941      0.0      0       5.5      NaN     3.20    1678.0  124.0      189.0   \n",
       "1942      0.0      0       7.4    312.0     3.56    1767.0  166.0      148.0   \n",
       "1943      1.0      1      16.3    688.0     3.34    2460.0  173.0      138.0   \n",
       "1944      1.0      1      23.4    741.0     3.42    3012.0  200.0      128.0   \n",
       "\n",
       "      prothrombin  histologic  \n",
       "1930         11.7           3  \n",
       "1931         10.2           2  \n",
       "1932          9.9           3  \n",
       "1933         10.9           3  \n",
       "1934         11.3           3  \n",
       "1935         11.3           3  \n",
       "1936         10.5           2  \n",
       "1937         10.5           2  \n",
       "1938         10.6           3  \n",
       "1939         11.4           3  \n",
       "1940         10.8           2  \n",
       "1941         10.9           2  \n",
       "1942         11.7           2  \n",
       "1943         13.0           2  \n",
       "1944         13.4           3  "
      ]
     },
     "execution_count": 4,
     "metadata": {},
     "output_type": "execute_result"
    }
   ],
   "source": [
    "df.tail(15)"
   ]
  },
  {
   "cell_type": "code",
   "execution_count": 5,
   "id": "c689dec1",
   "metadata": {},
   "outputs": [],
   "source": [
    "labels = np.reshape(DATA[2],-1)\n",
    "time = np.reshape(DATA[1],-1)"
   ]
  },
  {
   "cell_type": "code",
   "execution_count": 6,
   "id": "4cc4ae0c",
   "metadata": {},
   "outputs": [],
   "source": [
    "features = np.zeros([312,256])"
   ]
  },
  {
   "cell_type": "code",
   "execution_count": 7,
   "id": "f12533c5",
   "metadata": {},
   "outputs": [
    {
     "data": {
      "text/plain": [
       "(312, 256)"
      ]
     },
     "execution_count": 7,
     "metadata": {},
     "output_type": "execute_result"
    }
   ],
   "source": [
    "np.shape(features)"
   ]
  },
  {
   "cell_type": "code",
   "execution_count": 8,
   "id": "5256c195",
   "metadata": {},
   "outputs": [
    {
     "data": {
      "text/plain": [
       "(256,)"
      ]
     },
     "execution_count": 8,
     "metadata": {},
     "output_type": "execute_result"
    }
   ],
   "source": [
    "np.shape(np.reshape(DATA[0][0],-1))"
   ]
  },
  {
   "cell_type": "code",
   "execution_count": 9,
   "id": "b87e7687",
   "metadata": {},
   "outputs": [],
   "source": [
    "for id in range(312):\n",
    "    features[id] = np.reshape(DATA[0][id],-1)"
   ]
  },
  {
   "cell_type": "code",
   "execution_count": 10,
   "id": "46ad99f3",
   "metadata": {},
   "outputs": [],
   "source": [
    "# RSF implementaion\n",
    "from sklearn.model_selection import train_test_split\n",
    "from sklearn.preprocessing import OrdinalEncoder\n",
    "\n",
    "from sksurv.datasets import load_gbsg2\n",
    "from sksurv.preprocessing import OneHotEncoder\n",
    "from sksurv.ensemble import RandomSurvivalForest"
   ]
  },
  {
   "cell_type": "code",
   "execution_count": 11,
   "id": "030f94a3",
   "metadata": {},
   "outputs": [],
   "source": [
    "X = features"
   ]
  },
  {
   "cell_type": "code",
   "execution_count": 12,
   "id": "2c0543e3",
   "metadata": {},
   "outputs": [],
   "source": [
    "y = []\n",
    "for l,t in zip(labels,time):\n",
    "    y.append((l,t))"
   ]
  },
  {
   "cell_type": "code",
   "execution_count": 13,
   "id": "8a00b797",
   "metadata": {},
   "outputs": [],
   "source": [
    "y = np.array(y,dtype = np.dtype('bool,float'))"
   ]
  },
  {
   "cell_type": "code",
   "execution_count": 14,
   "id": "196b9131",
   "metadata": {},
   "outputs": [],
   "source": [
    "random_state = 20\n",
    "\n",
    "X_train, X_test, y_train, y_test = train_test_split(\n",
    "    X, y, test_size=0.25, random_state=random_state)\n"
   ]
  },
  {
   "cell_type": "code",
   "execution_count": 15,
   "id": "a4be0ace",
   "metadata": {},
   "outputs": [
    {
     "data": {
      "text/plain": [
       "array([[28.        ,  0.74683102, -0.57542067, ...,  0.        ,\n",
       "         0.        ,  0.        ],\n",
       "       [28.        , -0.80593702, -0.57542067, ...,  0.        ,\n",
       "         0.        ,  0.        ],\n",
       "       [ 0.        ,  2.72882171,  2.58168288, ...,  0.        ,\n",
       "         0.        ,  0.        ],\n",
       "       ...,\n",
       "       [31.        , -0.65079631,  1.0031311 , ...,  0.        ,\n",
       "         0.        ,  0.        ],\n",
       "       [27.        , -1.05770046, -0.57542067, ...,  0.        ,\n",
       "         0.        ,  0.        ],\n",
       "       [23.        , -1.07974678, -0.57542067, ...,  0.        ,\n",
       "         0.        ,  0.        ]])"
      ]
     },
     "execution_count": 15,
     "metadata": {},
     "output_type": "execute_result"
    }
   ],
   "source": [
    "X_train"
   ]
  },
  {
   "cell_type": "code",
   "execution_count": 16,
   "id": "ddd1116d",
   "metadata": {},
   "outputs": [
    {
     "data": {
      "text/plain": [
       "numpy.ndarray"
      ]
     },
     "execution_count": 16,
     "metadata": {},
     "output_type": "execute_result"
    }
   ],
   "source": [
    "type(y)"
   ]
  },
  {
   "cell_type": "code",
   "execution_count": 17,
   "id": "817ee7ad",
   "metadata": {},
   "outputs": [
    {
     "data": {
      "text/plain": [
       "(True, 1814.)"
      ]
     },
     "execution_count": 17,
     "metadata": {},
     "output_type": "execute_result"
    }
   ],
   "source": [
    "X2, y2 = load_gbsg2()\n",
    "y2[0]"
   ]
  },
  {
   "cell_type": "code",
   "execution_count": 18,
   "id": "14e4a1ac",
   "metadata": {},
   "outputs": [
    {
     "data": {
      "text/plain": [
       "RandomSurvivalForest(max_features='sqrt', min_samples_leaf=15,\n",
       "                     min_samples_split=10, n_estimators=1000, n_jobs=-1,\n",
       "                     random_state=20)"
      ]
     },
     "execution_count": 18,
     "metadata": {},
     "output_type": "execute_result"
    }
   ],
   "source": [
    "rsf = RandomSurvivalForest(n_estimators=1000,\n",
    "                           min_samples_split=10,\n",
    "                           min_samples_leaf=15,\n",
    "                           max_features=\"sqrt\",\n",
    "                           n_jobs=-1,\n",
    "                           random_state=random_state)\n",
    "rsf.fit(X_train, y_train)"
   ]
  },
  {
   "cell_type": "code",
   "execution_count": 19,
   "id": "8cf926e9",
   "metadata": {},
   "outputs": [
    {
     "data": {
      "text/plain": [
       "0.8662037037037037"
      ]
     },
     "execution_count": 19,
     "metadata": {},
     "output_type": "execute_result"
    }
   ],
   "source": [
    "rsf.score(X_test, y_test)"
   ]
  },
  {
   "cell_type": "code",
   "execution_count": 20,
   "id": "8d62be01",
   "metadata": {},
   "outputs": [
    {
     "data": {
      "text/plain": [
       "0      139.181004\n",
       "1       29.656901\n",
       "2       72.107405\n",
       "3       77.079778\n",
       "4       73.517853\n",
       "          ...    \n",
       "307     33.049464\n",
       "308     33.963387\n",
       "309     51.366700\n",
       "310     45.555855\n",
       "311    104.182945\n",
       "Length: 312, dtype: float64"
      ]
     },
     "execution_count": 20,
     "metadata": {},
     "output_type": "execute_result"
    }
   ],
   "source": [
    "pd.Series(rsf.predict(X))"
   ]
  },
  {
   "cell_type": "code",
   "execution_count": 26,
   "id": "61e14cc2",
   "metadata": {},
   "outputs": [],
   "source": [
    "import pandas as pd\n",
    "import matplotlib.pyplot as plt\n",
    "import numpy as np\n",
    "%matplotlib inline\n",
    "\n",
    "from sklearn.model_selection import train_test_split\n",
    "from sklearn.preprocessing import OrdinalEncoder\n",
    "\n",
    "from sksurv.datasets import load_gbsg2\n",
    "from sksurv.preprocessing import OneHotEncoder\n",
    "from sksurv.ensemble import RandomSurvivalForest\n",
    "\n",
    "surv = rsf.predict_survival_function(X, return_array=True)\n",
    "\n",
    "rsf_predictions = {}\n",
    "for i, s in enumerate(surv):\n",
    "    rsf_predictions[i] = s\n",
    "#     plt.step(rsf.event_times_, s, where=\"post\", label=str(i))\n",
    "# plt.ylabel(\"Survival probability\")\n",
    "# plt.xlabel(\"Time in days\")\n",
    "# plt.legend()\n",
    "# plt.grid(True)"
   ]
  },
  {
   "cell_type": "code",
   "execution_count": 31,
   "id": "fd3ff3ee",
   "metadata": {},
   "outputs": [],
   "source": [
    "rsf_predictions['event_times'] = rsf.event_times_"
   ]
  },
  {
   "cell_type": "code",
   "execution_count": 32,
   "id": "0cfeffe2",
   "metadata": {},
   "outputs": [
    {
     "data": {
      "text/plain": [
       "array([0.99446012, 0.98415882, 0.97804566, 0.96798461, 0.96343157,\n",
       "       0.95940392, 0.95532431, 0.9519453 , 0.94489624, 0.94172123,\n",
       "       0.93813307, 0.93181631, 0.92570717, 0.92123499, 0.91825722,\n",
       "       0.91329586, 0.91158266, 0.90034319, 0.89452268, 0.88902688,\n",
       "       0.88757013, 0.88410654, 0.85682745, 0.84734306, 0.84088471,\n",
       "       0.82237027, 0.82024334, 0.80412806, 0.78206852, 0.77266072,\n",
       "       0.76334283, 0.75663086, 0.75135496, 0.74229947, 0.73219731,\n",
       "       0.72025393, 0.7024212 , 0.70060785, 0.6896428 , 0.68172129,\n",
       "       0.65387442, 0.63567467, 0.63019517, 0.61882895, 0.60529713,\n",
       "       0.59156325, 0.58569367, 0.57300005, 0.57064743, 0.5625074 ,\n",
       "       0.54867183, 0.53468715, 0.52556244, 0.52074168, 0.50955242,\n",
       "       0.50622881, 0.4998954 , 0.49330599, 0.47897447, 0.46926736,\n",
       "       0.46189443, 0.45540581, 0.43813048, 0.42900678, 0.42615771,\n",
       "       0.41830228, 0.40866098, 0.40385243, 0.40130252, 0.38611839,\n",
       "       0.38466702, 0.38285682, 0.36903402, 0.36657517, 0.36284683,\n",
       "       0.35992267, 0.35099451, 0.35036809, 0.34728051, 0.34262003,\n",
       "       0.33696472, 0.32529959, 0.32152202, 0.30173982, 0.30090536,\n",
       "       0.28851019, 0.28574387, 0.27242559, 0.26984332, 0.26759105,\n",
       "       0.26676743, 0.2650949 , 0.26389587, 0.26069272, 0.25586294,\n",
       "       0.2489305 , 0.23938292, 0.23060006, 0.22600637, 0.21977579,\n",
       "       0.20859995, 0.20797791, 0.20199686, 0.19651904, 0.18351633,\n",
       "       0.18037298, 0.17843341, 0.17568241, 0.17295779, 0.16245471,\n",
       "       0.15069837, 0.12431582, 0.1216032 ])"
      ]
     },
     "execution_count": 32,
     "metadata": {},
     "output_type": "execute_result"
    }
   ],
   "source": [
    "rsf_predictions[311]"
   ]
  },
  {
   "cell_type": "code",
   "execution_count": 29,
   "id": "20abd6f5",
   "metadata": {},
   "outputs": [
    {
     "data": {
      "text/plain": [
       "[<matplotlib.lines.Line2D at 0x1973b9bd1f0>]"
      ]
     },
     "execution_count": 29,
     "metadata": {},
     "output_type": "execute_result"
    },
    {
     "data": {
      "image/png": "[encoded data removed]",
      "text/plain": [
       "<Figure size 432x288 with 1 Axes>"
      ]
     },
     "metadata": {
      "needs_background": "light"
     },
     "output_type": "display_data"
    }
   ],
   "source": [
    "plt.step(rsf.event_times_, rsf_predictions[0], where=\"post\", label=str(i))"
   ]
  },
  {
   "cell_type": "code",
   "execution_count": 30,
   "id": "06edeccc",
   "metadata": {},
   "outputs": [
    {
     "data": {
      "image/png": "[encoded data removed]",
      "text/plain": [
       "<Figure size 432x288 with 1 Axes>"
      ]
     },
     "metadata": {
      "needs_background": "light"
     },
     "output_type": "display_data"
    }
   ],
   "source": [
    "surv = rsf.predict_cumulative_hazard_function(X[:5], return_array=True)\n",
    "\n",
    "for i, s in enumerate(surv):\n",
    "    plt.step(rsf.event_times_, s, where=\"post\", label=str(i))\n",
    "plt.ylabel(\"Cumulative hazard\")\n",
    "plt.xlabel(\"Time in days\")\n",
    "plt.legend()\n",
    "plt.grid(True)"
   ]
  },
  {
   "cell_type": "code",
   "execution_count": 37,
   "id": "92a6574b",
   "metadata": {},
   "outputs": [],
   "source": [
    "import pickle\n",
    "pickle.dump( rsf_predictions, open( \"patient_surv_functions/rsf.p\", \"wb\" ) )"
   ]
  },
  {
   "cell_type": "code",
   "execution_count": 38,
   "id": "fdf76db1",
   "metadata": {},
   "outputs": [
    {
     "name": "stdout",
     "output_type": "stream",
     "text": [
      "[0.98355465 0.95081897 0.94033442 0.9101994  0.89174421 0.87809435\n",
      " 0.87507039 0.85473153 0.84215615 0.8166226  0.79253051 0.77678434\n",
      " 0.75715935 0.73994503 0.7287191  0.72531001 0.71666648 0.69074893\n",
      " 0.68439599 0.67241397 0.66064636 0.65723279 0.64654641 0.63661285\n",
      " 0.62504271 0.60672683 0.59791499 0.59317027 0.574243   0.57061994\n",
      " 0.56220101 0.54998502 0.53176441 0.52285465 0.51048515 0.50499657\n",
      " 0.49103898 0.48537485 0.46990506 0.45707609 0.44539867 0.43044596\n",
      " 0.42164767 0.41343655 0.40187199 0.37150653 0.3712378  0.36637924\n",
      " 0.3629361  0.3523143  0.34132979 0.33354262 0.32788769 0.32635148\n",
      " 0.32050789 0.31556429 0.31318145 0.31097094 0.30471686 0.29914277\n",
      " 0.28947708 0.28128675 0.27641387 0.27391617 0.27080273 0.26190585\n",
      " 0.26064037 0.25411327 0.24961782 0.2469519  0.23904011 0.22994274\n",
      " 0.22548748 0.22162884 0.21966835 0.21832497 0.21498626 0.21433422\n",
      " 0.20884761 0.20666067 0.19905111 0.17789183 0.1702973  0.16823246\n",
      " 0.16533575 0.16122955 0.16072677 0.15751743 0.15643262 0.15148746\n",
      " 0.14924592 0.14924592 0.1465167  0.14648496 0.14421647 0.14208106\n",
      " 0.13614134 0.13324856 0.13185064 0.12797106 0.11820254 0.11223002\n",
      " 0.10765362 0.10675414 0.1019653  0.09307415 0.09167692 0.09130638\n",
      " 0.09066073 0.08950068 0.08871617 0.06553202 0.06509223]\n"
     ]
    }
   ],
   "source": [
    "rsf_predictions = pickle.load( open( \"patient_surv_functions/rsf.p\", \"rb\" ) )\n",
    "print(rsf_predictions[0])"
   ]
  },
  {
   "cell_type": "code",
   "execution_count": null,
   "id": "0e54f090",
   "metadata": {},
   "outputs": [],
   "source": []
  }
 ],
 "metadata": {
  "kernelspec": {
   "display_name": "Python 3 (ipykernel)",
   "language": "python",
   "name": "python3"
  },
  "language_info": {
   "codemirror_mode": {
    "name": "ipython",
    "version": 3
   },
   "file_extension": ".py",
   "mimetype": "text/x-python",
   "name": "python",
   "nbconvert_exporter": "python",
   "pygments_lexer": "ipython3",
   "version": "3.9.6"
  }
 },
 "nbformat": 4,
 "nbformat_minor": 5
}
